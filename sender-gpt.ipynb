{
  "nbformat": 4,
  "nbformat_minor": 0,
  "metadata": {
    "colab": {
      "provenance": [],
      "include_colab_link": true
    },
    "kernelspec": {
      "name": "python3",
      "display_name": "Python 3"
    },
    "language_info": {
      "name": "python"
    }
  },
  "cells": [
    {
      "cell_type": "markdown",
      "metadata": {
        "id": "view-in-github",
        "colab_type": "text"
      },
      "source": [
        "<a href=\"https://colab.research.google.com/github/vadigr123/colab-testing/blob/main/sender-gpt.ipynb\" target=\"_parent\"><img src=\"https://colab.research.google.com/assets/colab-badge.svg\" alt=\"Open In Colab\"/></a>"
      ]
    },
    {
      "cell_type": "markdown",
      "source": [
        "---"
      ],
      "metadata": {
        "id": "ykqP3usteDDi"
      }
    },
    {
      "cell_type": "markdown",
      "source": [
        "# 🚩 Start (Download files)"
      ],
      "metadata": {
        "id": "XUgIFhoUgvDI"
      }
    },
    {
      "cell_type": "code",
      "source": [
        "#@markdown ### ▶️ Download\n",
        "#@markdown Use commas to download multiple files (URL,URL)\n",
        "urls = \"\" # @param {type:\"string\"}\n",
        "\n",
        "import os\n",
        "\n",
        "# Create a folder for downloaded files\n",
        "download_folder = \"\" # @param {type:\"string\"}\n",
        "os.makedirs(download_folder, exist_ok=True)\n",
        "\n",
        "# Split the string into individual URLs\n",
        "url_list = urls.split(\",\")\n",
        "\n",
        "# Download the files\n",
        "for url in url_list:\n",
        "    filename = url.split(\"/\")[-1]  # Get the filename from the URL\n",
        "    file_path = os.path.join(download_folder, filename)\n",
        "\n",
        "    # Perform download using wget\n",
        "    os.system(f'wget -O \"{file_path}\" \"{url.strip()}\"')\n",
        "\n",
        "    print(f\"✅ Downloaded: {filename}\")"
      ],
      "metadata": {
        "cellView": "form",
        "id": "9j5GD5mlgyMx",
        "outputId": "966b0c18-4fae-4c01-aace-58108cc66a71",
        "colab": {
          "base_uri": "https://localhost:8080/"
        }
      },
      "execution_count": 1,
      "outputs": [
        {
          "output_type": "stream",
          "name": "stdout",
          "text": [
            "✅ Downloaded: manmosu_marimo.safetensors\n"
          ]
        }
      ]
    },
    {
      "cell_type": "markdown",
      "source": [
        "---"
      ],
      "metadata": {
        "id": "2B0L0S6kgnWw"
      }
    },
    {
      "cell_type": "code",
      "source": [
        "#@markdown Use if needed to send to HugginFace\n",
        "!pip install huggingface_hub\n",
        "from huggingface_hub import login, HfApi\n",
        "import os\n",
        "\n",
        "    # Token for Hugging Face login\n",
        "token = \"\"  # @param {type:\"string\"}\n",
        "repo_id = \"\" # @param {\"type\":\"string\"}\n",
        "local_folder = \"\" # @param {\"type\":\"string\"}\n",
        "remote_folder = \"\" # @param {\"type\":\"string\"}\n",
        "\n",
        "    # Login\n",
        "login(token=token)\n",
        "\n",
        "    # Initialize the API\n",
        "api = HfApi()\n",
        "\n",
        "    # Iterate through all files in the folder\n",
        "for filename in os.listdir(local_folder):\n",
        "        file_path = os.path.join(local_folder, filename)  # Full file path\n",
        "        remote_path = os.path.join(remote_folder, filename)  # Path on Hugging Face\n",
        "\n",
        "api.upload_file(\n",
        "    path_or_fileobj=file_path,\n",
        "    path_in_repo=remote_path,\n",
        "    repo_id=repo_id,\n",
        "    repo_type=\"model\",\n",
        "    )\n",
        "print(f\"✅ Uploaded to Hugging Face: {filename}\")"
      ],
      "metadata": {
        "cellView": "form",
        "id": "isPmIK10gNhY"
      },
      "execution_count": null,
      "outputs": []
    },
    {
      "cell_type": "markdown",
      "source": [
        "---"
      ],
      "metadata": {
        "id": "PbWvKNt-grZ1"
      }
    },
    {
      "cell_type": "code",
      "source": [
        "#@markdown Use if needed to send to Github\n",
        "\n",
        "!pip install PyGithub\n",
        "from github import Github\n",
        "import os\n",
        "\n",
        "    # Token for GitHub login\n",
        "github_token = \"\"  # @param {type:\"string\"}\n",
        "repo_name = \"\" # @param {\"type\":\"string\"}\n",
        "local_folder = \"\" # @param {\"type\":\"string\"}\n",
        "remote_folder = \"\" # @param {\"type\":\"string\"}\n",
        "\n",
        "    # Login\n",
        "g = Github(github_token)\n",
        "repo = g.get_repo(repo_name)\n",
        "\n",
        "    # Iterate through all files in the folder\n",
        "for filename in os.listdir(local_folder):\n",
        "  file_path = os.path.join(local_folder, filename)\n",
        "  remote_path = os.path.join(remote_folder, filename)  # Path on GitHub\n",
        "\n",
        "with open(file_path, \"rb\") as file:\n",
        "  content = file.read()\n",
        "\n",
        "        # Upload the file to GitHub\n",
        "repo.create_file(remote_path, f\"Add {filename}\", content)\n",
        "print(f\"✅ Uploaded to GitHub: {filename}\")"
      ],
      "metadata": {
        "cellView": "form",
        "id": "01UneNG7gIMy"
      },
      "execution_count": null,
      "outputs": []
    }
  ]
}
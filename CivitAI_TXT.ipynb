{
  "nbformat": 4,
  "nbformat_minor": 0,
  "metadata": {
    "colab": {
      "provenance": [],
      "gpuType": "T4",
      "authorship_tag": "ABX9TyN9OW2mLRAwICF5FRky5RJx",
      "include_colab_link": true
    },
    "kernelspec": {
      "name": "python3",
      "display_name": "Python 3"
    },
    "language_info": {
      "name": "python"
    },
    "accelerator": "GPU"
  },
  "cells": [
    {
      "cell_type": "markdown",
      "metadata": {
        "id": "view-in-github",
        "colab_type": "text"
      },
      "source": [
        "<a href=\"https://colab.research.google.com/github/vadigr123/colab-testing/blob/main/CivitAI_TXT.ipynb\" target=\"_parent\"><img src=\"https://colab.research.google.com/assets/colab-badge.svg\" alt=\"Open In Colab\"/></a>"
      ]
    },
    {
      "cell_type": "code",
      "execution_count": null,
      "metadata": {
        "id": "URMFmcf_Ehbp",
        "cellView": "form"
      },
      "outputs": [],
      "source": [
        "#@title 📄 Civitai Models + TXT File\n",
        "import requests, re, os, time\n",
        "from IPython.display import clear_output\n",
        "\n",
        "# 🔗 Enter a valid Civitai user profile URL:\n",
        "user_url = \"https://civitai.com/user/vadigr123_\"  #@param {type:\"string\"}\n",
        "\n",
        "# 🎯 Extract username\n",
        "match = re.search(r'/user/([^/?#]+)', user_url)\n",
        "if not match:\n",
        "    raise ValueError(\"❌ Invalid user URL!\")\n",
        "username = match.group(1)\n",
        "\n",
        "models = []\n",
        "page = 1\n",
        "print(f\"🔍 Fetching models for user: {username}...\\n\")\n",
        "\n",
        "# 🧠 Load all model pages from API\n",
        "while True:\n",
        "    url = f\"https://civitai.com/api/v1/models?username={username}&limit=100&page={page}\"\n",
        "    try:\n",
        "        res = requests.get(url)\n",
        "        data = res.json()\n",
        "    except Exception as e:\n",
        "        print(f\"❌ Failed to load page {page}: {e}\")\n",
        "        break\n",
        "\n",
        "    if not data.get(\"items\"):\n",
        "        break\n",
        "\n",
        "    models.extend(data[\"items\"])\n",
        "    page += 1\n",
        "\n",
        "if not models:\n",
        "    raise RuntimeError(\"❌ No models found!\")\n",
        "\n",
        "total = len(models)\n",
        "log_lines = []\n",
        "output_lines = []\n",
        "\n",
        "# 📦 Build the list\n",
        "for idx, model in enumerate(models, start=1):\n",
        "    clear_output(wait=True)\n",
        "    model_name = model[\"name\"]\n",
        "    model_line = f\"{idx}/{total} [{round((idx/total)*100)}%] 📦 {model_name}\"\n",
        "    print(model_line)\n",
        "    success = True\n",
        "    version_lines = []\n",
        "\n",
        "    try:\n",
        "        for version in model.get(\"modelVersions\", []):\n",
        "            ver_name = version[\"name\"]\n",
        "            ver_id = version[\"id\"]\n",
        "            ver_url = f\"https://civitai.com/api/download/models/{ver_id}\"\n",
        "            version_lines.append(f\"{ver_name} {ver_url}\")\n",
        "            log_lines.append(f\"✅ Downloaded: {model_name} | {ver_name}\")\n",
        "    except Exception as e:\n",
        "        log_lines.append(f\"❌ Skipped: {model_name} | Error: {str(e)}\")\n",
        "        success = False\n",
        "\n",
        "    if success:\n",
        "        output_lines.append(model_name)\n",
        "        output_lines.extend(version_lines)\n",
        "        output_lines.append(\"\")  # spacing between models\n",
        "\n",
        "    # Show recent log lines (last 5)\n",
        "    print(\"\\n\".join(log_lines[-5:]))\n",
        "\n",
        "# ✍️ Save to .txt file\n",
        "filename = f\"{username}_models.txt\"\n",
        "with open(filename, \"w\", encoding=\"utf-8\") as f:\n",
        "    f.write(\"\\n\".join(output_lines))\n",
        "\n",
        "# ✅ Final output\n",
        "clear_output(wait=True)\n",
        "print(\"✅ All done!\\n\")\n",
        "for line in log_lines:\n",
        "    print(line)\n",
        "\n",
        "print(f\"\\n📄 TXT file saved as: `{filename}` ({len(models)} models listed)\")\n"
      ]
    }
  ]
}